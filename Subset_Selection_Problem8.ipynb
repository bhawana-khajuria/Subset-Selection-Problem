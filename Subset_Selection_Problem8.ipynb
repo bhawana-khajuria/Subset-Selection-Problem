{
  "nbformat": 4,
  "nbformat_minor": 0,
  "metadata": {
    "colab": {
      "provenance": [],
      "authorship_tag": "ABX9TyP57BIxLn478HT60pRCiUyL",
      "include_colab_link": true
    },
    "kernelspec": {
      "name": "python3",
      "display_name": "Python 3"
    },
    "language_info": {
      "name": "python"
    }
  },
  "cells": [
    {
      "cell_type": "markdown",
      "metadata": {
        "id": "view-in-github",
        "colab_type": "text"
      },
      "source": [
        "<a href=\"https://colab.research.google.com/github/bhawana-khajuria/Subset-Selection-Problem/blob/main/Subset_Selection_Problem8.ipynb\" target=\"_parent\"><img src=\"https://colab.research.google.com/assets/colab-badge.svg\" alt=\"Open In Colab\"/></a>"
      ]
    },
    {
      "cell_type": "markdown",
      "source": [
        "# **Subset Selection Problem**"
      ],
      "metadata": {
        "id": "Lb-0k9RH7LdU"
      }
    },
    {
      "cell_type": "markdown",
      "source": [
        "#1. Problem Statement:\n",
        "Find all the subsets from a set of numbers whose sum is zero.\n",
        "\n",
        "Constraint: Subset size must be 5 Set={-12, -3, -6, 7, 2, -2, 6, 3, 9, -7, -5, -8, 1, 11, -9, -4}"
      ],
      "metadata": {
        "id": "doqTi08e7K0S"
      }
    },
    {
      "cell_type": "markdown",
      "source": [
        "**1.1 Library inclusion**"
      ],
      "metadata": {
        "id": "UKisB8TP7iTJ"
      }
    },
    {
      "cell_type": "markdown",
      "source": [
        "**1.2 Parameter Setting**"
      ],
      "metadata": {
        "id": "uegEwGKf7qJ8"
      }
    },
    {
      "cell_type": "code",
      "execution_count": 1,
      "metadata": {
        "id": "t__Ab8tNh9pK"
      },
      "outputs": [],
      "source": [
        "Set         = set([-12, -3, -6, 7, 2, -2, 6, 3, 9, -7, -5, -8, 1, 11, -9, -4])\n",
        "SetSize     = 5\n",
        "ResultList  = set()    # Store Result List i.e. list of sets whose sum is zero\n",
        "Iterations  = 1000    # Number of Inerations"
      ]
    },
    {
      "cell_type": "markdown",
      "source": [
        "**1.3 Start Program**"
      ],
      "metadata": {
        "id": "BX5Z7QEr70ef"
      }
    },
    {
      "cell_type": "code",
      "source": [
        "# Loop till number of Iterations\n",
        "import random as r\n",
        "\n",
        "for i in range(Iterations):\n",
        "    # Select number of elements from Set\n",
        "    Chromosome = r.sample(list(Set),SetSize)\n",
        "\n",
        "    # Sum the number of elements in the Chromosome\n",
        "    if sum(Chromosome) == 0:\n",
        "        ResultList.add(tuple(Chromosome))"
      ],
      "metadata": {
        "id": "DoJTEPEz72wM"
      },
      "execution_count": 2,
      "outputs": []
    },
    {
      "cell_type": "markdown",
      "source": [
        "**1.4 Print the sets and total count**"
      ],
      "metadata": {
        "id": "To_hYSvA7_sy"
      }
    },
    {
      "cell_type": "code",
      "source": [
        "# Print all the sets whose sum is zero\n",
        "for r in ResultList:\n",
        "\tprint (r)\n",
        "\n",
        "# Print total sets\n",
        "print (\"\\nTotal Sets: \", len(ResultList), \"\\n\")"
      ],
      "metadata": {
        "colab": {
          "base_uri": "https://localhost:8080/"
        },
        "id": "7e2dkbZ98BvM",
        "outputId": "45b23a39-ddf8-41e9-e14e-191b31c1eb88"
      },
      "execution_count": 3,
      "outputs": [
        {
          "output_type": "stream",
          "name": "stdout",
          "text": [
            "(11, -9, -4, -5, 7)\n",
            "(2, 1, -8, 11, -6)\n",
            "(6, -4, 1, -5, 2)\n",
            "(2, -12, 11, 1, -2)\n",
            "(2, -7, 6, -2, 1)\n",
            "(7, -12, 1, -7, 11)\n",
            "(9, -12, -9, 11, 1)\n",
            "(-6, 3, 1, 11, -9)\n",
            "(6, -6, -7, -4, 11)\n",
            "(3, 7, -4, -7, 1)\n",
            "(1, 9, -8, -9, 7)\n",
            "(-5, -6, -4, 6, 9)\n",
            "(9, -2, -9, -5, 7)\n",
            "(-9, 11, -6, 7, -3)\n",
            "(2, -6, 11, -8, 1)\n",
            "(1, -2, 2, -8, 7)\n",
            "(9, 3, 1, -5, -8)\n",
            "(-6, 7, -2, -8, 9)\n",
            "(-3, 3, -8, 6, 2)\n",
            "(6, 11, 3, -8, -12)\n",
            "(-9, -8, 7, 9, 1)\n",
            "(-6, -3, 2, 11, -4)\n",
            "(-7, -6, 9, -2, 6)\n",
            "(2, 3, 6, -6, -5)\n",
            "(1, -4, 3, 6, -6)\n",
            "(-7, 1, 6, -9, 9)\n",
            "\n",
            "Total Sets:  26 \n",
            "\n"
          ]
        }
      ]
    },
    {
      "cell_type": "markdown",
      "source": [
        "**1.5 Complete Program**"
      ],
      "metadata": {
        "id": "c6bti1Fn8HJh"
      }
    },
    {
      "cell_type": "code",
      "source": [
        "# Step 1: Library inclusion\n",
        "import random as r\n",
        "\n",
        "\n",
        "# Step 2: Parameter Setting\n",
        "Set         = set([-12, -3, -6, 7, 2, -2, 6, 3, 9, -7, -5, -8, 1, 11, -9, -4])\n",
        "SetSize     = 5\n",
        "ResultList  = set()    # Store Result List i.e. list of sets whose sum is zero\n",
        "Iterations  = 1000   # Number of Inerations\n",
        "\n",
        "# Step3: Start Program\n",
        "\n",
        "# Loop till number of Iterations\n",
        "for i in range(Iterations):\n",
        "    # Select number of elements from Set\n",
        "    Chromosome = r.sample(list(Set),SetSize)\n",
        "\n",
        "    # Sum the number of elements in the Chromosome\n",
        "    if sum(Chromosome) == 0:\n",
        "        ResultList.add(tuple(Chromosome))\n",
        "\n",
        "# Print all the sets whose sum is zero\n",
        "for r in ResultList:\n",
        "        print (r)\n",
        "\n",
        "# Print total sets\n",
        "print (\"\\nTotal Sets: \", len(ResultList))"
      ],
      "metadata": {
        "colab": {
          "base_uri": "https://localhost:8080/"
        },
        "id": "uFZUTfGJ8M9v",
        "outputId": "14e82e84-eafc-4ab4-80c9-a82855b3084a"
      },
      "execution_count": 4,
      "outputs": [
        {
          "output_type": "stream",
          "name": "stdout",
          "text": [
            "(-3, 7, 9, -4, -9)\n",
            "(11, -5, -7, 9, -8)\n",
            "(3, 7, 1, -9, -2)\n",
            "(-6, 3, -3, 11, -5)\n",
            "(2, -8, -7, 7, 6)\n",
            "(-4, 3, 6, 1, -6)\n",
            "(9, 6, -7, -3, -5)\n",
            "(7, 2, 1, -8, -2)\n",
            "(7, -3, -6, -9, 11)\n",
            "(11, -3, -9, 9, -8)\n",
            "(-5, -7, 3, 2, 7)\n",
            "(7, -7, -8, -3, 11)\n",
            "(11, -3, -8, 7, -7)\n",
            "(2, -9, 7, 6, -6)\n",
            "(2, 6, -6, -3, 1)\n",
            "(2, -12, 9, -5, 6)\n",
            "(-2, 3, 2, 9, -12)\n",
            "(-4, -2, 11, 1, -6)\n",
            "(-9, -3, 11, -2, 3)\n",
            "(-3, 3, -5, -4, 9)\n",
            "(1, -9, -5, 7, 6)\n",
            "(-4, 7, -2, 6, -7)\n",
            "(3, -6, -5, -3, 11)\n",
            "(6, -9, 2, -2, 3)\n",
            "(9, 1, -4, 6, -12)\n",
            "(2, 6, -4, -5, 1)\n",
            "(-7, -4, -3, 11, 3)\n",
            "(-12, 1, 7, -2, 6)\n",
            "\n",
            "Total Sets:  28\n"
          ]
        }
      ]
    },
    {
      "cell_type": "markdown",
      "source": [
        "**1.6 Complete Program with sorting**"
      ],
      "metadata": {
        "id": "ow8KOWaz8Ww9"
      }
    },
    {
      "cell_type": "code",
      "source": [
        "# Step 1: Library inclusion\n",
        "import random as r\n",
        "\n",
        "# Step 2: Parameter Setting\n",
        "Set         = set([-12, -3, -6, 7, 2, -2, 6, 3, 9, -7, -5, -8, 1, 11, -9, -4])\n",
        "SetSize     = 5\n",
        "ResultList  = set()    # Store Result List i.e. list of sets whose sum is zero\n",
        "Iterations  = 1000   # Number of Inerations\n",
        "\n",
        "\n",
        "# Step3: Start Program\n",
        "\n",
        "# Loop till number of Iterations\n",
        "for i in range(Iterations):\n",
        "    # Select number of elements from Set\n",
        "    Chromosome = r.sample(list(Set),SetSize)\n",
        "    Chromosome.sort()\n",
        "\n",
        "    # Sum the number of elements in the Chromosome\n",
        "    if sum(Chromosome) == 0:\n",
        "        ResultList.add(tuple(Chromosome))\n",
        "\n",
        "# Print all the sets whose sum is zero\n",
        "for r in ResultList:\n",
        "        print (r)\n",
        "\n",
        "# Print total sets\n",
        "print (\"\\nTotal Sets: \", len(ResultList))"
      ],
      "metadata": {
        "colab": {
          "base_uri": "https://localhost:8080/"
        },
        "id": "rW_QVyLh8ZUd",
        "outputId": "ac9467ba-9e2f-4ede-fc8a-1ae0f93a5bcd"
      },
      "execution_count": 5,
      "outputs": [
        {
          "output_type": "stream",
          "name": "stdout",
          "text": [
            "(-9, -8, 2, 6, 9)\n",
            "(-9, -8, -3, 9, 11)\n",
            "(-8, -6, -4, 7, 11)\n",
            "(-12, -9, 1, 9, 11)\n",
            "(-8, -7, -3, 7, 11)\n",
            "(-9, -2, 1, 3, 7)\n",
            "(-12, -2, 1, 6, 7)\n",
            "(-7, -3, 1, 3, 6)\n",
            "(-12, -5, 1, 7, 9)\n",
            "(-6, -4, -3, 6, 7)\n",
            "(-12, -3, -2, 6, 11)\n",
            "(-12, 1, 2, 3, 6)\n",
            "(-12, -3, 1, 3, 11)\n",
            "(-7, -2, 1, 2, 6)\n",
            "(-8, -3, -2, 6, 7)\n",
            "(-8, -2, 1, 3, 6)\n",
            "(-9, -7, -2, 7, 11)\n",
            "(-8, -4, -2, 3, 11)\n",
            "(-8, -4, 1, 2, 9)\n",
            "(-9, -7, 3, 6, 7)\n",
            "(-6, -4, -3, 2, 11)\n",
            "(-12, -8, 3, 6, 11)\n",
            "(-8, -6, 1, 2, 11)\n",
            "(-8, -5, -3, 7, 9)\n",
            "(-8, -2, 1, 2, 7)\n",
            "(-7, -6, -3, 7, 9)\n",
            "(-9, -7, 1, 6, 9)\n",
            "(-9, -6, 1, 3, 11)\n",
            "(-9, -4, -2, 6, 9)\n",
            "(-7, -5, -4, 7, 9)\n",
            "(-12, -4, -2, 7, 11)\n",
            "\n",
            "Total Sets:  31\n"
          ]
        }
      ]
    },
    {
      "cell_type": "markdown",
      "source": [
        "# **2. Problem Statement:**\n",
        "Find all the subsets from a set of numbers whose sum is zero.\n",
        "\n",
        "Constraint: Subset size must be 3 to 6 only Set={-12, -3, -6, 7, 2, -2, 6, 3, 9, -7, -5, -8, 1, 11, -9, -4}"
      ],
      "metadata": {
        "id": "NGkEhHgJ8n52"
      }
    },
    {
      "cell_type": "code",
      "source": [
        "# Step 1: Library inclusion\n",
        "import random as r\n",
        "\n",
        "# Step 2: Parameter Setting\n",
        "\n",
        "Set         = set([-12, -3, -6, 7, 2, -2, 6, 3, 9, -7, -5, -8, 1, 11, -9, -4])\n",
        "SetLB       = 3\n",
        "SetUB       = 6\n",
        "ResultList  = set()    # Store Result List i.e. list of sets whose sum is zero\n",
        "Iterations  = 1000   # Number of Inerations\n",
        "\n",
        "\n",
        "# Step3: Start Program\n",
        "\n",
        "# Loop till number of Iterations\n",
        "for i in range(Iterations):\n",
        "    # Select set size randomly\n",
        "    SetSize = r.randint(SetLB,SetUB)\n",
        "\n",
        "    # Select number of elements from Set\n",
        "    Chromosome = r.sample(list(Set),SetSize)\n",
        "    Chromosome.sort()\n",
        "\n",
        "    # Sum the number of elements in the Chromosome\n",
        "    if sum(Chromosome) == 0:\n",
        "        ResultList.add(tuple(Chromosome))\n",
        "\n",
        "# Print all the sets whose sum is zero\n",
        "for r in ResultList:\n",
        "        print (r)\n",
        "\n",
        "# Print total sets\n",
        "print (\"\\nTotal Sets: \", len(ResultList))"
      ],
      "metadata": {
        "colab": {
          "base_uri": "https://localhost:8080/"
        },
        "id": "2BgDWC3k8x2v",
        "outputId": "987fd728-c7e1-453e-a1e0-e425cd93ca62"
      },
      "execution_count": 6,
      "outputs": [
        {
          "output_type": "stream",
          "name": "stdout",
          "text": [
            "(-8, -3, 2, 9)\n",
            "(-8, -7, -3, 1, 6, 11)\n",
            "(-9, -8, 1, 2, 3, 11)\n",
            "(-12, -2, 3, 11)\n",
            "(-6, -4, 3, 7)\n",
            "(-8, -2, 3, 7)\n",
            "(-5, -4, 2, 7)\n",
            "(-8, -6, -5, 2, 6, 11)\n",
            "(-4, -3, -2, 9)\n",
            "(-5, -2, 1, 6)\n",
            "(-9, -3, 1, 11)\n",
            "(-6, -5, 2, 9)\n",
            "(-8, 1, 7)\n",
            "(-8, -6, -3, 6, 11)\n",
            "(-7, -4, 11)\n",
            "(-6, -3, 1, 2, 6)\n",
            "(-6, -3, 9)\n",
            "(-7, -5, -4, 1, 6, 9)\n",
            "(-6, -4, -3, 2, 11)\n",
            "(-7, -5, 1, 2, 9)\n",
            "(-8, -5, 2, 11)\n",
            "(-5, -4, 9)\n",
            "(-8, -6, -5, 1, 7, 11)\n",
            "(-8, -3, 2, 3, 6)\n",
            "(-7, -6, 2, 11)\n",
            "(-12, -6, 2, 3, 6, 7)\n",
            "(-7, -3, 3, 7)\n",
            "(-3, 1, 2)\n",
            "\n",
            "Total Sets:  28\n"
          ]
        }
      ]
    }
  ]
}